{
  "cells": [
    {
      "cell_type": "code",
      "execution_count": 57,
      "metadata": {
        "colab": {
          "base_uri": "https://localhost:8080/"
        },
        "id": "NNJsIl6VjWXg",
        "outputId": "2984cfc7-9e9e-4b5c-e123-925cfe764995"
      },
      "outputs": [
        {
          "output_type": "stream",
          "name": "stdout",
          "text": [
            "Requirement already satisfied: pyspark in /usr/local/lib/python3.10/dist-packages (3.4.1)\n",
            "Requirement already satisfied: py4j==0.10.9.7 in /usr/local/lib/python3.10/dist-packages (from pyspark) (0.10.9.7)\n",
            "Requirement already satisfied: findspark in /usr/local/lib/python3.10/dist-packages (2.0.1)\n"
          ]
        }
      ],
      "source": [
        "!pip install pyspark\n",
        "!pip install findspark\n",
        "import findspark\n",
        "findspark.init()\n",
        "findspark.find()\n",
        "from pyspark.sql import SparkSession\n",
        "from pyspark.ml.feature import VectorAssembler\n",
        "from pyspark.ml.feature import StandardScaler\n",
        "from pyspark.mllib.evaluation import BinaryClassificationMetrics\n",
        "from pyspark.ml.evaluation import MulticlassClassificationEvaluator\n",
        "from pyspark.ml.classification import GBTClassifier\n",
        "from pyspark.ml.classification import RandomForestClassifier\n",
        "from pyspark.ml.classification import LogisticRegression\n",
        "from pyspark.ml.classification import NaiveBayes"
      ]
    },
    {
      "cell_type": "code",
      "execution_count": 58,
      "metadata": {
        "id": "s0XtJHJ8jWXh"
      },
      "outputs": [],
      "source": [
        "spark = SparkSession.builder.appName(\"Classification of Diabetis Dataset with Spark\").getOrCreate()"
      ]
    },
    {
      "cell_type": "code",
      "execution_count": 59,
      "metadata": {
        "id": "y2npWbkcjWXi"
      },
      "outputs": [],
      "source": [
        "dataset = spark.read.csv(\"diabetes.csv\",header=True)"
      ]
    },
    {
      "cell_type": "code",
      "execution_count": 60,
      "metadata": {
        "colab": {
          "base_uri": "https://localhost:8080/"
        },
        "id": "b5WQV2SFjWXi",
        "outputId": "caca9f0d-2634-4d19-c64d-1a56bce4325d"
      },
      "outputs": [
        {
          "output_type": "stream",
          "name": "stdout",
          "text": [
            "+-----------+-------+-------------+-------------+-------+----+------------------------+---+-------+\n",
            "|Pregnancies|Glucose|BloodPressure|SkinThickness|Insulin| BMI|DiabetesPedigreeFunction|Age|Outcome|\n",
            "+-----------+-------+-------------+-------------+-------+----+------------------------+---+-------+\n",
            "|          6|    148|           72|           35|      0|33.6|                   0.627| 50|      1|\n",
            "|          1|     85|           66|           29|      0|26.6|                   0.351| 31|      0|\n",
            "|          8|    183|           64|            0|      0|23.3|                   0.672| 32|      1|\n",
            "|          1|     89|           66|           23|     94|28.1|                   0.167| 21|      0|\n",
            "|          0|    137|           40|           35|    168|43.1|                   2.288| 33|      1|\n",
            "|          5|    116|           74|            0|      0|25.6|                   0.201| 30|      0|\n",
            "|          3|     78|           50|           32|     88|  31|                   0.248| 26|      1|\n",
            "|         10|    115|            0|            0|      0|35.3|                   0.134| 29|      0|\n",
            "|          2|    197|           70|           45|    543|30.5|                   0.158| 53|      1|\n",
            "|          8|    125|           96|            0|      0|   0|                   0.232| 54|      1|\n",
            "|          4|    110|           92|            0|      0|37.6|                   0.191| 30|      0|\n",
            "|         10|    168|           74|            0|      0|  38|                   0.537| 34|      1|\n",
            "|         10|    139|           80|            0|      0|27.1|                   1.441| 57|      0|\n",
            "|          1|    189|           60|           23|    846|30.1|                   0.398| 59|      1|\n",
            "|          5|    166|           72|           19|    175|25.8|                   0.587| 51|      1|\n",
            "|          7|    100|            0|            0|      0|  30|                   0.484| 32|      1|\n",
            "|          0|    118|           84|           47|    230|45.8|                   0.551| 31|      1|\n",
            "|          7|    107|           74|            0|      0|29.6|                   0.254| 31|      1|\n",
            "|          1|    103|           30|           38|     83|43.3|                   0.183| 33|      0|\n",
            "|          1|    115|           70|           30|     96|34.6|                   0.529| 32|      1|\n",
            "+-----------+-------+-------------+-------------+-------+----+------------------------+---+-------+\n",
            "only showing top 20 rows\n",
            "\n"
          ]
        }
      ],
      "source": [
        "dataset.show()"
      ]
    },
    {
      "cell_type": "code",
      "execution_count": 61,
      "metadata": {
        "colab": {
          "base_uri": "https://localhost:8080/"
        },
        "id": "gRXOt9iLjWXi",
        "outputId": "49fe9fbf-4c6d-4e98-89dd-03a6ca3bcc70"
      },
      "outputs": [
        {
          "output_type": "stream",
          "name": "stdout",
          "text": [
            "root\n",
            " |-- Pregnancies: string (nullable = true)\n",
            " |-- Glucose: string (nullable = true)\n",
            " |-- BloodPressure: string (nullable = true)\n",
            " |-- SkinThickness: string (nullable = true)\n",
            " |-- Insulin: string (nullable = true)\n",
            " |-- BMI: string (nullable = true)\n",
            " |-- DiabetesPedigreeFunction: string (nullable = true)\n",
            " |-- Age: string (nullable = true)\n",
            " |-- Outcome: string (nullable = true)\n",
            "\n"
          ]
        }
      ],
      "source": [
        "dataset.printSchema()"
      ]
    },
    {
      "cell_type": "code",
      "execution_count": 62,
      "metadata": {
        "id": "OSmf25ybjWXi"
      },
      "outputs": [],
      "source": [
        "from pyspark.sql.functions import col\n",
        "new_data = dataset.select(*(col(c).cast(\"float\").alias(c) for c in dataset.columns))"
      ]
    },
    {
      "cell_type": "code",
      "execution_count": 63,
      "metadata": {
        "colab": {
          "base_uri": "https://localhost:8080/"
        },
        "id": "inqlhA0pjWXj",
        "outputId": "cfb5e5f6-f37c-4880-b9d4-c1d4dfda0741"
      },
      "outputs": [
        {
          "output_type": "stream",
          "name": "stdout",
          "text": [
            "root\n",
            " |-- Pregnancies: float (nullable = true)\n",
            " |-- Glucose: float (nullable = true)\n",
            " |-- BloodPressure: float (nullable = true)\n",
            " |-- SkinThickness: float (nullable = true)\n",
            " |-- Insulin: float (nullable = true)\n",
            " |-- BMI: float (nullable = true)\n",
            " |-- DiabetesPedigreeFunction: float (nullable = true)\n",
            " |-- Age: float (nullable = true)\n",
            " |-- Outcome: float (nullable = true)\n",
            "\n"
          ]
        }
      ],
      "source": [
        "new_data.printSchema()"
      ]
    },
    {
      "cell_type": "code",
      "execution_count": 64,
      "metadata": {
        "colab": {
          "base_uri": "https://localhost:8080/"
        },
        "id": "C_uR5bhXjWXj",
        "outputId": "73fa3e19-5069-45cd-a78f-58938735b844"
      },
      "outputs": [
        {
          "output_type": "stream",
          "name": "stdout",
          "text": [
            "+-----------+-------+-------------+-------------+-------+---+------------------------+---+-------+\n",
            "|Pregnancies|Glucose|BloodPressure|SkinThickness|Insulin|BMI|DiabetesPedigreeFunction|Age|Outcome|\n",
            "+-----------+-------+-------------+-------------+-------+---+------------------------+---+-------+\n",
            "|          0|      0|            0|            0|      0|  0|                       0|  0|      0|\n",
            "+-----------+-------+-------------+-------------+-------+---+------------------------+---+-------+\n",
            "\n"
          ]
        }
      ],
      "source": [
        "from pyspark.sql.functions import col, count, isnan, when\n",
        "#checking for null ir nan type vals\n",
        "new_data.select([count(when(col(c).isNull(), c)).alias(c) for c in new_data.columns]).show()"
      ]
    },
    {
      "cell_type": "code",
      "execution_count": 65,
      "metadata": {
        "id": "CrMHMQR-jWXj"
      },
      "outputs": [],
      "source": [
        "cols=new_data.columns\n",
        "cols.remove(\"Outcome\")\n",
        "assembler = VectorAssembler(inputCols=cols,outputCol=\"features\")"
      ]
    },
    {
      "cell_type": "code",
      "source": [
        "# transform method to transform dataset\n",
        "data=assembler.transform(new_data)\n",
        "data.select(\"features\",'Outcome').show(truncate=False)"
      ],
      "metadata": {
        "colab": {
          "base_uri": "https://localhost:8080/"
        },
        "id": "2dqBlh27gATF",
        "outputId": "d2e109f0-7515-4d71-e87a-f0e05acbc710"
      },
      "execution_count": 66,
      "outputs": [
        {
          "output_type": "stream",
          "name": "stdout",
          "text": [
            "+-----------------------------------------------------------------------+-------+\n",
            "|features                                                               |Outcome|\n",
            "+-----------------------------------------------------------------------+-------+\n",
            "|[6.0,148.0,72.0,35.0,0.0,33.599998474121094,0.6269999742507935,50.0]   |1.0    |\n",
            "|[1.0,85.0,66.0,29.0,0.0,26.600000381469727,0.35100001096725464,31.0]   |0.0    |\n",
            "|[8.0,183.0,64.0,0.0,0.0,23.299999237060547,0.671999990940094,32.0]     |1.0    |\n",
            "|[1.0,89.0,66.0,23.0,94.0,28.100000381469727,0.16699999570846558,21.0]  |0.0    |\n",
            "|[0.0,137.0,40.0,35.0,168.0,43.099998474121094,2.2880001068115234,33.0] |1.0    |\n",
            "|[5.0,116.0,74.0,0.0,0.0,25.600000381469727,0.20100000500679016,30.0]   |0.0    |\n",
            "|[3.0,78.0,50.0,32.0,88.0,31.0,0.24799999594688416,26.0]                |1.0    |\n",
            "|[10.0,115.0,0.0,0.0,0.0,35.29999923706055,0.1340000033378601,29.0]     |0.0    |\n",
            "|[2.0,197.0,70.0,45.0,543.0,30.5,0.15800000727176666,53.0]              |1.0    |\n",
            "|[8.0,125.0,96.0,0.0,0.0,0.0,0.23199999332427979,54.0]                  |1.0    |\n",
            "|[4.0,110.0,92.0,0.0,0.0,37.599998474121094,0.19099999964237213,30.0]   |0.0    |\n",
            "|[10.0,168.0,74.0,0.0,0.0,38.0,0.5370000004768372,34.0]                 |1.0    |\n",
            "|[10.0,139.0,80.0,0.0,0.0,27.100000381469727,1.440999984741211,57.0]    |0.0    |\n",
            "|[1.0,189.0,60.0,23.0,846.0,30.100000381469727,0.39800000190734863,59.0]|1.0    |\n",
            "|[5.0,166.0,72.0,19.0,175.0,25.799999237060547,0.5870000123977661,51.0] |1.0    |\n",
            "|[7.0,100.0,0.0,0.0,0.0,30.0,0.48399999737739563,32.0]                  |1.0    |\n",
            "|[0.0,118.0,84.0,47.0,230.0,45.79999923706055,0.5509999990463257,31.0]  |1.0    |\n",
            "|[7.0,107.0,74.0,0.0,0.0,29.600000381469727,0.2540000081062317,31.0]    |1.0    |\n",
            "|[1.0,103.0,30.0,38.0,83.0,43.29999923706055,0.18299999833106995,33.0]  |0.0    |\n",
            "|[1.0,115.0,70.0,30.0,96.0,34.599998474121094,0.5289999842643738,32.0]  |1.0    |\n",
            "+-----------------------------------------------------------------------+-------+\n",
            "only showing top 20 rows\n",
            "\n"
          ]
        }
      ]
    },
    {
      "cell_type": "code",
      "execution_count": 67,
      "metadata": {
        "id": "SX5bL1KsjWXj"
      },
      "outputs": [],
      "source": [
        "standardscaler=StandardScaler().setInputCol(\"features\").setOutputCol(\"Scaled_features\")\n",
        "data=standardscaler.fit(data).transform(data)"
      ]
    },
    {
      "cell_type": "code",
      "execution_count": 68,
      "metadata": {
        "colab": {
          "base_uri": "https://localhost:8080/"
        },
        "id": "NVc-rCzOjWXj",
        "outputId": "cc13fe1a-e766-44e3-ef32-cbba19634220"
      },
      "outputs": [
        {
          "output_type": "stream",
          "name": "stdout",
          "text": [
            "+-----------------------------------------------------------------------+-------+---------------------------------------------------------------------------------------------------------------------------------------------------------+\n",
            "|features                                                               |Outcome|Scaled_features                                                                                                                                          |\n",
            "+-----------------------------------------------------------------------+-------+---------------------------------------------------------------------------------------------------------------------------------------------------------+\n",
            "|[6.0,148.0,72.0,35.0,0.0,33.599998474121094,0.6269999742507935,50.0]   |1.0    |[1.7806383732194306,4.628960915766174,3.7198138711154307,2.1940523222807116,0.0,4.261709202425419,1.8923810993699686,4.251616970894646]                  |\n",
            "|[1.0,85.0,66.0,29.0,0.0,26.600000381469727,0.35100001096725464,31.0]   |0.0    |[0.29677306220323846,2.658524850271114,3.4098293818558116,1.8179290670325896,0.0,3.373853320188119,1.0593713140527197,2.6360025219546803]                |\n",
            "|[8.0,183.0,64.0,0.0,0.0,23.299999237060547,0.671999990940094,32.0]     |1.0    |[2.3741844976259077,5.723647618818986,3.306501218769272,0.0,0.0,2.955292430788826,2.028197980632078,2.721034861372573]                                   |\n",
            "|[1.0,89.0,66.0,23.0,94.0,28.100000381469727,0.16699999570846558,21.0]  |0.0    |[0.29677306220323846,2.783631902048578,3.4098293818558116,1.4418058117844677,0.8156606685129459,3.564108203936454,0.5040313372439763,1.785679127775751]  |\n",
            "|[0.0,137.0,40.0,35.0,168.0,43.099998474121094,2.2880001068115234,33.0] |1.0    |[0.0,4.284916523378148,2.0665632617307947,2.1940523222807116,1.4577765139380312,5.466656799498205,6.905531635244907,2.806067200790466]                   |\n",
            "|[5.0,116.0,74.0,0.0,0.0,25.600000381469727,0.20100000500679016,30.0]   |0.0    |[1.4838653110161923,3.628104501546461,3.823142034201971,0.0,0.0,3.247016731022563,0.6066485264255773,2.5509701825367874]                                 |\n",
            "|[3.0,78.0,50.0,32.0,88.0,31.0,0.24799999594688416,26.0]                |1.0    |[0.8903191866097153,2.4395875096605515,2.5832040771634937,2.0059906946566506,0.7635972215865877,3.9319342641322486,0.7485016335678398,2.210840824865216] |\n",
            "|[10.0,115.0,0.0,0.0,0.0,35.29999923706055,0.1340000033378601,29.0]     |0.0    |[2.9677306220323847,3.596827738602095,0.0,0.0,0.0,4.477331500775503,0.4044323509503849,2.4659378431188945]                                               |\n",
            "|[2.0,197.0,70.0,45.0,543.0,30.5,0.15800000727176666,53.0]              |1.0    |[0.5935461244064769,6.161522300040111,3.616485708028891,2.8209244143609147,4.711741946835422,3.8685159695494704,0.4768680059655209,4.5067139891483246]   |\n",
            "|[8.0,125.0,96.0,0.0,0.0,0.0,0.23199999332427979,54.0]                  |1.0    |[2.3741844976259077,3.9095953680457556,4.959751828153908,0.0,0.0,0.0,0.7002111968910825,4.5917463285662174]                                              |\n",
            "|[4.0,110.0,92.0,0.0,0.0,37.599998474121094,0.19099999964237213,30.0]   |0.0    |[1.1870922488129538,3.440443923880265,4.7530955019808285,0.0,0.0,4.7690555590876444,0.5764669922591124,2.5509701825367874]                               |\n",
            "|[10.0,168.0,74.0,0.0,0.0,38.0,0.5370000004768372,34.0]                 |1.0    |[2.9677306220323847,5.254496174653495,3.823142034201971,0.0,0.0,4.8197903882911435,1.6207475167416163,2.891099540208359]                                 |\n",
            "|[10.0,139.0,80.0,0.0,0.0,27.100000381469727,1.440999984741211,57.0]    |0.0    |[2.9677306220323847,4.34747004926688,4.1331265234615895,0.0,0.0,3.4372716147708973,4.349156694264776,4.846843346819896]                                  |\n",
            "|[1.0,189.0,60.0,23.0,846.0,30.100000381469727,0.39800000190734863,59.0]|1.0    |[0.29677306220323846,5.911308196485182,3.0998448925961926,1.4418058117844677,7.340946016616514,3.8177813822675666,1.201224421194982,5.016908025655682]   |\n",
            "|[5.0,166.0,72.0,19.0,175.0,25.799999237060547,0.5870000123977661,51.0] |1.0    |[1.4838653110161923,5.191942648764763,3.7198138711154307,1.1910569749523863,1.5185172020187825,3.272383903702717,1.7716551425999747,4.336649310312539]   |\n",
            "|[7.0,100.0,0.0,0.0,0.0,30.0,0.48399999737739563,32.0]                  |1.0    |[2.077411435422669,3.127676294436604,0.0,0.0,0.0,3.8050976749666923,1.4607854621150949,2.721034861372573]                                                |\n",
            "|[0.0,118.0,84.0,47.0,230.0,45.79999923706055,0.5509999990463257,31.0]  |1.0    |[0.0,3.6906580274351932,4.33978284963467,2.9462988327769555,1.9957654655103998,5.809115687013845,1.6630016375902872,2.6360025219546803]                  |\n",
            "|[7.0,107.0,74.0,0.0,0.0,29.600000381469727,0.2540000081062317,31.0]    |1.0    |[2.077411435422669,3.3466136350471665,3.823142034201971,0.0,0.0,3.7543630876847884,0.7666105810520987,2.6360025219546803]                                |\n",
            "|[1.0,103.0,30.0,38.0,83.0,43.29999923706055,0.18299999833106995,33.0]  |0.0    |[0.29677306220323846,3.2215065832697025,1.5499224462980963,2.3821139499047725,0.7202110158146225,5.4920242140999544,0.5523217739207337,2.806067200790466]|\n",
            "|[1.0,115.0,70.0,30.0,96.0,34.599998474121094,0.5289999842643738,32.0]  |1.0    |[0.29677306220323846,3.596827738602095,3.616485708028891,1.88061627624061,0.833015150821732,4.388545791590976,1.596602253429271,2.721034861372573]       |\n",
            "+-----------------------------------------------------------------------+-------+---------------------------------------------------------------------------------------------------------------------------------------------------------+\n",
            "only showing top 20 rows\n",
            "\n"
          ]
        }
      ],
      "source": [
        "data.select(\"features\",'Outcome','Scaled_features').show(truncate=False)"
      ]
    },
    {
      "cell_type": "code",
      "execution_count": 69,
      "metadata": {
        "colab": {
          "base_uri": "https://localhost:8080/"
        },
        "id": "9jTufjmIjWXk",
        "outputId": "8583e4a0-36b5-47ab-c7d9-06945d72749a"
      },
      "outputs": [
        {
          "output_type": "stream",
          "name": "stdout",
          "text": [
            "+--------------------+-------+\n",
            "|     Scaled_features|Outcome|\n",
            "+--------------------+-------+\n",
            "|[1.78063837321943...|    1.0|\n",
            "|[0.29677306220323...|    0.0|\n",
            "|[2.37418449762590...|    1.0|\n",
            "|[0.29677306220323...|    0.0|\n",
            "|[0.0,4.2849165233...|    1.0|\n",
            "|[1.48386531101619...|    0.0|\n",
            "|[0.89031918660971...|    1.0|\n",
            "|[2.96773062203238...|    0.0|\n",
            "|[0.59354612440647...|    1.0|\n",
            "|[2.37418449762590...|    1.0|\n",
            "|[1.18709224881295...|    0.0|\n",
            "|[2.96773062203238...|    1.0|\n",
            "|[2.96773062203238...|    0.0|\n",
            "|[0.29677306220323...|    1.0|\n",
            "|[1.48386531101619...|    1.0|\n",
            "|[2.07741143542266...|    1.0|\n",
            "|[0.0,3.6906580274...|    1.0|\n",
            "|[2.07741143542266...|    1.0|\n",
            "|[0.29677306220323...|    0.0|\n",
            "|[0.29677306220323...|    1.0|\n",
            "+--------------------+-------+\n",
            "only showing top 20 rows\n",
            "\n"
          ]
        }
      ],
      "source": [
        "assembled_data = data.select(\"Scaled_features\",\"Outcome\")\n",
        "assembled_data.show()"
      ]
    },
    {
      "cell_type": "code",
      "execution_count": 70,
      "metadata": {
        "id": "8Ml_lSM1jWXk"
      },
      "outputs": [],
      "source": [
        "train, test = assembled_data.randomSplit([0.7, 0.3])"
      ]
    },
    {
      "cell_type": "code",
      "execution_count": 71,
      "metadata": {
        "colab": {
          "base_uri": "https://localhost:8080/"
        },
        "id": "FwFFLWAJjWXk",
        "outputId": "76505890-c9b0-49f0-9c27-db6ac062fa73"
      },
      "outputs": [
        {
          "output_type": "stream",
          "name": "stdout",
          "text": [
            "+--------------------+-------+\n",
            "|     Scaled_features|Outcome|\n",
            "+--------------------+-------+\n",
            "|(8,[0,1,6,7],[0.5...|    0.0|\n",
            "|(8,[0,1,6,7],[0.5...|    0.0|\n",
            "|(8,[0,1,6,7],[1.7...|    0.0|\n",
            "|(8,[0,1,6,7],[2.0...|    0.0|\n",
            "|(8,[0,1,6,7],[2.9...|    1.0|\n",
            "|(8,[1,5,6,7],[2.2...|    0.0|\n",
            "|(8,[1,5,6,7],[3.6...|    0.0|\n",
            "|(8,[1,5,6,7],[3.7...|    1.0|\n",
            "|(8,[1,5,6,7],[4.3...|    1.0|\n",
            "|(8,[1,5,6,7],[4.4...|    1.0|\n",
            "|(8,[1,5,6,7],[4.5...|    1.0|\n",
            "|[0.0,1.7827754878...|    0.0|\n",
            "|[0.0,2.0955431172...|    0.0|\n",
            "|[0.0,2.4395875096...|    0.0|\n",
            "|[0.0,2.6272480873...|    0.0|\n",
            "|[0.0,2.6898016132...|    0.0|\n",
            "|[0.0,2.8461854279...|    0.0|\n",
            "|[0.0,2.8461854279...|    0.0|\n",
            "|[0.0,2.9087389538...|    0.0|\n",
            "|[0.0,2.9087389538...|    0.0|\n",
            "+--------------------+-------+\n",
            "only showing top 20 rows\n",
            "\n"
          ]
        }
      ],
      "source": [
        "train.show()"
      ]
    },
    {
      "cell_type": "code",
      "execution_count": 72,
      "metadata": {
        "colab": {
          "base_uri": "https://localhost:8080/"
        },
        "id": "E1N0ESSxjWXk",
        "outputId": "d8cc5a48-8b66-416a-d62a-1fd92fde8198"
      },
      "outputs": [
        {
          "output_type": "stream",
          "name": "stdout",
          "text": [
            "+--------------------+-------+\n",
            "|     Scaled_features|Outcome|\n",
            "+--------------------+-------+\n",
            "|(8,[0,1,6,7],[0.8...|    0.0|\n",
            "|(8,[1,5,6,7],[3.0...|    0.0|\n",
            "|(8,[1,5,6,7],[4.0...|    1.0|\n",
            "|(8,[1,5,6,7],[5.2...|    1.0|\n",
            "|(8,[1,6,7],[2.940...|    0.0|\n",
            "|[0.0,2.3144804578...|    0.0|\n",
            "|[0.0,2.6272480873...|    0.0|\n",
            "|[0.0,2.9712924797...|    0.0|\n",
            "|[0.0,3.0338460056...|    0.0|\n",
            "|[0.0,3.0651227685...|    0.0|\n",
            "|[0.0,3.1276762944...|    0.0|\n",
            "|[0.0,3.1589530573...|    0.0|\n",
            "|[0.0,3.1902298203...|    0.0|\n",
            "|[0.0,3.1902298203...|    0.0|\n",
            "|[0.0,3.2527833462...|    0.0|\n",
            "|[0.0,3.2527833462...|    1.0|\n",
            "|[0.0,3.3466136350...|    0.0|\n",
            "|[0.0,3.3466136350...|    1.0|\n",
            "|[0.0,3.3778903979...|    0.0|\n",
            "|[0.0,3.5342742127...|    1.0|\n",
            "+--------------------+-------+\n",
            "only showing top 20 rows\n",
            "\n"
          ]
        }
      ],
      "source": [
        "test.show()"
      ]
    },
    {
      "cell_type": "markdown",
      "metadata": {
        "id": "Buy7D_AYjWXk"
      },
      "source": [
        "## Logistic Regression"
      ]
    },
    {
      "cell_type": "code",
      "execution_count": 73,
      "metadata": {
        "id": "nkxNNRT5jWXl"
      },
      "outputs": [],
      "source": [
        "log_reg = LogisticRegression(labelCol=\"Outcome\", featuresCol=\"Scaled_features\",maxIter=40)\n",
        "model=log_reg.fit(train)"
      ]
    },
    {
      "cell_type": "code",
      "execution_count": 74,
      "metadata": {
        "id": "Nte8ZMDsjWXl"
      },
      "outputs": [],
      "source": [
        "prediction_test=model.transform(test)"
      ]
    },
    {
      "cell_type": "code",
      "execution_count": 75,
      "metadata": {
        "colab": {
          "base_uri": "https://localhost:8080/"
        },
        "id": "TCYM69-CjWXl",
        "outputId": "71242eb7-17a8-423c-aa43-213ace51bd02"
      },
      "outputs": [
        {
          "output_type": "stream",
          "name": "stdout",
          "text": [
            "+--------------------+-------+--------------------+--------------------+----------+\n",
            "|     Scaled_features|Outcome|       rawPrediction|         probability|prediction|\n",
            "+--------------------+-------+--------------------+--------------------+----------+\n",
            "|(8,[0,1,6,7],[0.8...|    0.0|[4.24279922245683...|[0.98583617795574...|       0.0|\n",
            "|(8,[1,5,6,7],[3.0...|    0.0|[2.24338928345768...|[0.90407878090324...|       0.0|\n",
            "|(8,[1,5,6,7],[4.0...|    1.0|[-0.1689812582506...|[0.45785492428771...|       1.0|\n",
            "|(8,[1,5,6,7],[5.2...|    1.0|[-1.3358261538824...|[0.20819728399933...|       1.0|\n",
            "|(8,[1,6,7],[2.940...|    0.0|[4.04608549830297...|[0.98280995779903...|       0.0|\n",
            "|[0.0,2.3144804578...|    0.0|[3.52820533082519...|[0.97147972970657...|       0.0|\n",
            "|[0.0,2.6272480873...|    0.0|[2.47637893966886...|[0.92246921635009...|       0.0|\n",
            "|[0.0,2.9712924797...|    0.0|[2.25004399122462...|[0.90465432962595...|       0.0|\n",
            "|[0.0,3.0338460056...|    0.0|[1.80897382974160...|[0.85923780656902...|       0.0|\n",
            "|[0.0,3.0651227685...|    0.0|[3.14761450401632...|[0.95881462364706...|       0.0|\n",
            "|[0.0,3.1276762944...|    0.0|[0.79009741850739...|[0.68785224784267...|       0.0|\n",
            "|[0.0,3.1589530573...|    0.0|[3.02678498269073...|[0.95376961940968...|       0.0|\n",
            "|[0.0,3.1902298203...|    0.0|[2.22705388892851...|[0.90265278899678...|       0.0|\n",
            "|[0.0,3.1902298203...|    0.0|[2.39932680613987...|[0.91677595470209...|       0.0|\n",
            "|[0.0,3.2527833462...|    0.0|[2.39761656527259...|[0.91664537403591...|       0.0|\n",
            "|[0.0,3.2527833462...|    1.0|[1.79952625297094...|[0.85809125640082...|       0.0|\n",
            "|[0.0,3.3466136350...|    0.0|[2.45091810625216...|[0.92062856423215...|       0.0|\n",
            "|[0.0,3.3466136350...|    1.0|[1.28905978851013...|[0.78398800611286...|       0.0|\n",
            "|[0.0,3.3778903979...|    0.0|[1.82671568153604...|[0.86137000598235...|       0.0|\n",
            "|[0.0,3.5342742127...|    1.0|[1.99438634965227...|[0.88020641962408...|       0.0|\n",
            "+--------------------+-------+--------------------+--------------------+----------+\n",
            "only showing top 20 rows\n",
            "\n"
          ]
        }
      ],
      "source": [
        "prediction_test.show()"
      ]
    },
    {
      "cell_type": "code",
      "execution_count": 76,
      "metadata": {
        "colab": {
          "base_uri": "https://localhost:8080/"
        },
        "id": "bRhAhEJ6jWXl",
        "outputId": "eccc486c-bee3-41ee-ca1e-ab4269797a92"
      },
      "outputs": [
        {
          "output_type": "stream",
          "name": "stdout",
          "text": [
            "+-------+----------+\n",
            "|Outcome|prediction|\n",
            "+-------+----------+\n",
            "|    0.0|       0.0|\n",
            "|    0.0|       0.0|\n",
            "|    1.0|       1.0|\n",
            "|    1.0|       1.0|\n",
            "|    0.0|       0.0|\n",
            "|    0.0|       0.0|\n",
            "|    0.0|       0.0|\n",
            "|    0.0|       0.0|\n",
            "|    0.0|       0.0|\n",
            "|    0.0|       0.0|\n",
            "+-------+----------+\n",
            "only showing top 10 rows\n",
            "\n"
          ]
        }
      ],
      "source": [
        "prediction_test.select(\"Outcome\",\"prediction\").show(10)"
      ]
    },
    {
      "cell_type": "code",
      "execution_count": 77,
      "metadata": {
        "id": "vy7JOMpMjWXl"
      },
      "outputs": [],
      "source": [
        "# Compute raw scores on the test set\n",
        "prednLabels = prediction_test.select(\"Outcome\",\"prediction\").rdd"
      ]
    },
    {
      "cell_type": "code",
      "execution_count": 78,
      "metadata": {
        "colab": {
          "base_uri": "https://localhost:8080/"
        },
        "id": "AOduvVs4jWXl",
        "outputId": "afa3c8ca-452c-458d-9d73-2197de9cf3e8"
      },
      "outputs": [
        {
          "output_type": "execute_result",
          "data": {
            "text/plain": [
              "[Row(Outcome=0.0, prediction=0.0),\n",
              " Row(Outcome=0.0, prediction=0.0),\n",
              " Row(Outcome=1.0, prediction=1.0),\n",
              " Row(Outcome=1.0, prediction=1.0),\n",
              " Row(Outcome=0.0, prediction=0.0),\n",
              " Row(Outcome=0.0, prediction=0.0),\n",
              " Row(Outcome=0.0, prediction=0.0),\n",
              " Row(Outcome=0.0, prediction=0.0),\n",
              " Row(Outcome=0.0, prediction=0.0),\n",
              " Row(Outcome=0.0, prediction=0.0),\n",
              " Row(Outcome=0.0, prediction=0.0),\n",
              " Row(Outcome=0.0, prediction=0.0),\n",
              " Row(Outcome=0.0, prediction=0.0),\n",
              " Row(Outcome=0.0, prediction=0.0),\n",
              " Row(Outcome=0.0, prediction=0.0),\n",
              " Row(Outcome=1.0, prediction=0.0),\n",
              " Row(Outcome=0.0, prediction=0.0),\n",
              " Row(Outcome=1.0, prediction=0.0),\n",
              " Row(Outcome=0.0, prediction=0.0),\n",
              " Row(Outcome=1.0, prediction=0.0),\n",
              " Row(Outcome=0.0, prediction=0.0),\n",
              " Row(Outcome=1.0, prediction=0.0),\n",
              " Row(Outcome=0.0, prediction=0.0),\n",
              " Row(Outcome=0.0, prediction=0.0),\n",
              " Row(Outcome=0.0, prediction=0.0),\n",
              " Row(Outcome=0.0, prediction=0.0),\n",
              " Row(Outcome=1.0, prediction=1.0),\n",
              " Row(Outcome=0.0, prediction=0.0),\n",
              " Row(Outcome=0.0, prediction=0.0),\n",
              " Row(Outcome=1.0, prediction=0.0),\n",
              " Row(Outcome=0.0, prediction=0.0),\n",
              " Row(Outcome=1.0, prediction=1.0),\n",
              " Row(Outcome=0.0, prediction=1.0),\n",
              " Row(Outcome=1.0, prediction=1.0),\n",
              " Row(Outcome=1.0, prediction=1.0),\n",
              " Row(Outcome=0.0, prediction=0.0),\n",
              " Row(Outcome=0.0, prediction=0.0),\n",
              " Row(Outcome=0.0, prediction=0.0),\n",
              " Row(Outcome=0.0, prediction=0.0),\n",
              " Row(Outcome=0.0, prediction=0.0),\n",
              " Row(Outcome=0.0, prediction=0.0),\n",
              " Row(Outcome=0.0, prediction=0.0),\n",
              " Row(Outcome=0.0, prediction=0.0),\n",
              " Row(Outcome=0.0, prediction=0.0),\n",
              " Row(Outcome=1.0, prediction=0.0),\n",
              " Row(Outcome=0.0, prediction=0.0),\n",
              " Row(Outcome=0.0, prediction=0.0),\n",
              " Row(Outcome=0.0, prediction=0.0),\n",
              " Row(Outcome=0.0, prediction=0.0),\n",
              " Row(Outcome=0.0, prediction=0.0),\n",
              " Row(Outcome=0.0, prediction=0.0),\n",
              " Row(Outcome=1.0, prediction=0.0),\n",
              " Row(Outcome=1.0, prediction=0.0),\n",
              " Row(Outcome=0.0, prediction=0.0),\n",
              " Row(Outcome=1.0, prediction=0.0),\n",
              " Row(Outcome=0.0, prediction=0.0),\n",
              " Row(Outcome=0.0, prediction=0.0),\n",
              " Row(Outcome=1.0, prediction=0.0),\n",
              " Row(Outcome=0.0, prediction=0.0),\n",
              " Row(Outcome=1.0, prediction=0.0),\n",
              " Row(Outcome=0.0, prediction=0.0),\n",
              " Row(Outcome=0.0, prediction=0.0),\n",
              " Row(Outcome=1.0, prediction=0.0),\n",
              " Row(Outcome=0.0, prediction=0.0),\n",
              " Row(Outcome=0.0, prediction=1.0),\n",
              " Row(Outcome=0.0, prediction=0.0),\n",
              " Row(Outcome=1.0, prediction=1.0),\n",
              " Row(Outcome=0.0, prediction=1.0),\n",
              " Row(Outcome=0.0, prediction=0.0),\n",
              " Row(Outcome=1.0, prediction=1.0),\n",
              " Row(Outcome=1.0, prediction=1.0),\n",
              " Row(Outcome=0.0, prediction=0.0),\n",
              " Row(Outcome=0.0, prediction=0.0),\n",
              " Row(Outcome=0.0, prediction=0.0),\n",
              " Row(Outcome=1.0, prediction=0.0),\n",
              " Row(Outcome=0.0, prediction=0.0),\n",
              " Row(Outcome=0.0, prediction=0.0),\n",
              " Row(Outcome=0.0, prediction=0.0),\n",
              " Row(Outcome=0.0, prediction=0.0),\n",
              " Row(Outcome=0.0, prediction=0.0),\n",
              " Row(Outcome=0.0, prediction=0.0),\n",
              " Row(Outcome=0.0, prediction=0.0),\n",
              " Row(Outcome=0.0, prediction=0.0),\n",
              " Row(Outcome=0.0, prediction=0.0),\n",
              " Row(Outcome=1.0, prediction=0.0),\n",
              " Row(Outcome=0.0, prediction=0.0),\n",
              " Row(Outcome=0.0, prediction=0.0),\n",
              " Row(Outcome=0.0, prediction=0.0),\n",
              " Row(Outcome=0.0, prediction=0.0),\n",
              " Row(Outcome=1.0, prediction=1.0),\n",
              " Row(Outcome=0.0, prediction=0.0),\n",
              " Row(Outcome=0.0, prediction=0.0),\n",
              " Row(Outcome=1.0, prediction=1.0),\n",
              " Row(Outcome=0.0, prediction=0.0),\n",
              " Row(Outcome=1.0, prediction=0.0),\n",
              " Row(Outcome=0.0, prediction=0.0),\n",
              " Row(Outcome=0.0, prediction=0.0),\n",
              " Row(Outcome=0.0, prediction=0.0),\n",
              " Row(Outcome=0.0, prediction=0.0),\n",
              " Row(Outcome=0.0, prediction=0.0),\n",
              " Row(Outcome=0.0, prediction=0.0),\n",
              " Row(Outcome=0.0, prediction=0.0),\n",
              " Row(Outcome=0.0, prediction=0.0),\n",
              " Row(Outcome=1.0, prediction=0.0),\n",
              " Row(Outcome=0.0, prediction=0.0),\n",
              " Row(Outcome=1.0, prediction=0.0),\n",
              " Row(Outcome=1.0, prediction=0.0),\n",
              " Row(Outcome=0.0, prediction=0.0),\n",
              " Row(Outcome=1.0, prediction=1.0),\n",
              " Row(Outcome=1.0, prediction=1.0),\n",
              " Row(Outcome=1.0, prediction=1.0),\n",
              " Row(Outcome=1.0, prediction=1.0),\n",
              " Row(Outcome=0.0, prediction=1.0),\n",
              " Row(Outcome=1.0, prediction=1.0),\n",
              " Row(Outcome=1.0, prediction=1.0),\n",
              " Row(Outcome=0.0, prediction=0.0),\n",
              " Row(Outcome=1.0, prediction=0.0),\n",
              " Row(Outcome=0.0, prediction=0.0),\n",
              " Row(Outcome=0.0, prediction=0.0),\n",
              " Row(Outcome=0.0, prediction=0.0),\n",
              " Row(Outcome=1.0, prediction=1.0),\n",
              " Row(Outcome=0.0, prediction=0.0),\n",
              " Row(Outcome=0.0, prediction=0.0),\n",
              " Row(Outcome=0.0, prediction=1.0),\n",
              " Row(Outcome=0.0, prediction=0.0),\n",
              " Row(Outcome=1.0, prediction=0.0),\n",
              " Row(Outcome=0.0, prediction=0.0),\n",
              " Row(Outcome=0.0, prediction=0.0),\n",
              " Row(Outcome=1.0, prediction=1.0),\n",
              " Row(Outcome=0.0, prediction=0.0),\n",
              " Row(Outcome=1.0, prediction=1.0),\n",
              " Row(Outcome=0.0, prediction=0.0),\n",
              " Row(Outcome=1.0, prediction=0.0),\n",
              " Row(Outcome=1.0, prediction=0.0),\n",
              " Row(Outcome=0.0, prediction=0.0),\n",
              " Row(Outcome=1.0, prediction=1.0),\n",
              " Row(Outcome=1.0, prediction=1.0),\n",
              " Row(Outcome=0.0, prediction=1.0),\n",
              " Row(Outcome=1.0, prediction=0.0),\n",
              " Row(Outcome=0.0, prediction=0.0),\n",
              " Row(Outcome=0.0, prediction=0.0),\n",
              " Row(Outcome=0.0, prediction=0.0),\n",
              " Row(Outcome=0.0, prediction=0.0),\n",
              " Row(Outcome=0.0, prediction=0.0),\n",
              " Row(Outcome=0.0, prediction=0.0),\n",
              " Row(Outcome=1.0, prediction=0.0),\n",
              " Row(Outcome=1.0, prediction=0.0),\n",
              " Row(Outcome=0.0, prediction=0.0),\n",
              " Row(Outcome=0.0, prediction=0.0),\n",
              " Row(Outcome=0.0, prediction=0.0),\n",
              " Row(Outcome=0.0, prediction=0.0),\n",
              " Row(Outcome=1.0, prediction=1.0),\n",
              " Row(Outcome=0.0, prediction=1.0),\n",
              " Row(Outcome=1.0, prediction=1.0),\n",
              " Row(Outcome=1.0, prediction=1.0),\n",
              " Row(Outcome=1.0, prediction=1.0),\n",
              " Row(Outcome=1.0, prediction=0.0),\n",
              " Row(Outcome=0.0, prediction=0.0),\n",
              " Row(Outcome=0.0, prediction=0.0),\n",
              " Row(Outcome=0.0, prediction=0.0),\n",
              " Row(Outcome=0.0, prediction=0.0),\n",
              " Row(Outcome=0.0, prediction=0.0),\n",
              " Row(Outcome=0.0, prediction=0.0),\n",
              " Row(Outcome=0.0, prediction=0.0),\n",
              " Row(Outcome=0.0, prediction=0.0),\n",
              " Row(Outcome=1.0, prediction=1.0),\n",
              " Row(Outcome=1.0, prediction=0.0),\n",
              " Row(Outcome=0.0, prediction=1.0),\n",
              " Row(Outcome=0.0, prediction=1.0),\n",
              " Row(Outcome=1.0, prediction=1.0),\n",
              " Row(Outcome=0.0, prediction=0.0),\n",
              " Row(Outcome=0.0, prediction=0.0),\n",
              " Row(Outcome=0.0, prediction=0.0),\n",
              " Row(Outcome=1.0, prediction=1.0),\n",
              " Row(Outcome=1.0, prediction=0.0),\n",
              " Row(Outcome=1.0, prediction=0.0),\n",
              " Row(Outcome=0.0, prediction=1.0),\n",
              " Row(Outcome=1.0, prediction=1.0),\n",
              " Row(Outcome=1.0, prediction=1.0),\n",
              " Row(Outcome=1.0, prediction=1.0),\n",
              " Row(Outcome=1.0, prediction=1.0),\n",
              " Row(Outcome=1.0, prediction=1.0),\n",
              " Row(Outcome=1.0, prediction=1.0),\n",
              " Row(Outcome=0.0, prediction=0.0),\n",
              " Row(Outcome=0.0, prediction=0.0),\n",
              " Row(Outcome=1.0, prediction=0.0),\n",
              " Row(Outcome=1.0, prediction=0.0),\n",
              " Row(Outcome=0.0, prediction=1.0),\n",
              " Row(Outcome=1.0, prediction=0.0),\n",
              " Row(Outcome=1.0, prediction=1.0),\n",
              " Row(Outcome=1.0, prediction=1.0),\n",
              " Row(Outcome=1.0, prediction=1.0),\n",
              " Row(Outcome=1.0, prediction=1.0),\n",
              " Row(Outcome=1.0, prediction=1.0),\n",
              " Row(Outcome=0.0, prediction=0.0),\n",
              " Row(Outcome=0.0, prediction=0.0),\n",
              " Row(Outcome=1.0, prediction=1.0),\n",
              " Row(Outcome=1.0, prediction=1.0),\n",
              " Row(Outcome=1.0, prediction=1.0),\n",
              " Row(Outcome=1.0, prediction=1.0),\n",
              " Row(Outcome=1.0, prediction=1.0),\n",
              " Row(Outcome=0.0, prediction=0.0),\n",
              " Row(Outcome=1.0, prediction=1.0),\n",
              " Row(Outcome=1.0, prediction=0.0),\n",
              " Row(Outcome=0.0, prediction=0.0),\n",
              " Row(Outcome=1.0, prediction=1.0),\n",
              " Row(Outcome=1.0, prediction=1.0),\n",
              " Row(Outcome=0.0, prediction=1.0),\n",
              " Row(Outcome=1.0, prediction=1.0),\n",
              " Row(Outcome=0.0, prediction=0.0),\n",
              " Row(Outcome=0.0, prediction=1.0),\n",
              " Row(Outcome=1.0, prediction=1.0),\n",
              " Row(Outcome=0.0, prediction=1.0),\n",
              " Row(Outcome=1.0, prediction=1.0),\n",
              " Row(Outcome=1.0, prediction=0.0),\n",
              " Row(Outcome=1.0, prediction=1.0)]"
            ]
          },
          "metadata": {},
          "execution_count": 78
        }
      ],
      "source": [
        "prednLabels.collect()"
      ]
    },
    {
      "cell_type": "code",
      "execution_count": 79,
      "metadata": {
        "colab": {
          "base_uri": "https://localhost:8080/"
        },
        "id": "f-vFUZ-XjWXl",
        "outputId": "2a96dd25-2e1c-4a10-e1bd-822e428c9eb6"
      },
      "outputs": [
        {
          "output_type": "stream",
          "name": "stdout",
          "text": [
            "Area under ROC = 0.7806060606060606\n"
          ]
        }
      ],
      "source": [
        "mtrcs = BinaryClassificationMetrics(prednLabels)\n",
        "\n",
        "# AUC\n",
        "print(\"Area under ROC = %s\" % mtrcs.areaUnderROC)"
      ]
    },
    {
      "cell_type": "code",
      "execution_count": 80,
      "metadata": {
        "colab": {
          "base_uri": "https://localhost:8080/"
        },
        "id": "jFt0wvzcjWXl",
        "outputId": "6bc8bcd4-2f55-419f-e284-de073aa0ac78"
      },
      "outputs": [
        {
          "output_type": "stream",
          "name": "stdout",
          "text": [
            "Accuracy =  0.7777777777777778\n"
          ]
        }
      ],
      "source": [
        "evaluator = MulticlassClassificationEvaluator(labelCol=\"Outcome\", predictionCol=\"prediction\", metricName=\"accuracy\")\n",
        "acc_LR = evaluator.evaluate(prediction_test)\n",
        "print (\"Accuracy = \" ,acc_LR)"
      ]
    },
    {
      "cell_type": "markdown",
      "metadata": {
        "id": "itfzdJAjjWXl"
      },
      "source": [
        "## NaiveBayes"
      ]
    },
    {
      "cell_type": "code",
      "execution_count": 81,
      "metadata": {
        "id": "C26Q6ThQjWXl"
      },
      "outputs": [],
      "source": [
        "naive_bayes = NaiveBayes(featuresCol='Scaled_features',labelCol='Outcome',smoothing=1.0)"
      ]
    },
    {
      "cell_type": "code",
      "execution_count": 82,
      "metadata": {
        "id": "sDbiq6PqjWXl"
      },
      "outputs": [],
      "source": [
        "model = naive_bayes.fit(train)"
      ]
    },
    {
      "cell_type": "code",
      "execution_count": 83,
      "metadata": {
        "id": "TQtFuyC3jWXm"
      },
      "outputs": [],
      "source": [
        "# select example rows to display.\n",
        "prediction_test = model.transform(test)"
      ]
    },
    {
      "cell_type": "code",
      "execution_count": 84,
      "metadata": {
        "colab": {
          "base_uri": "https://localhost:8080/"
        },
        "id": "Y0Ztoq_ejWXm",
        "outputId": "bda06732-2120-4ebf-ce48-516ed293112b"
      },
      "outputs": [
        {
          "output_type": "stream",
          "name": "stdout",
          "text": [
            "+--------------------+-------+--------------------+--------------------+----------+\n",
            "|     Scaled_features|Outcome|       rawPrediction|         probability|prediction|\n",
            "+--------------------+-------+--------------------+--------------------+----------+\n",
            "|(8,[0,1,6,7],[0.8...|    0.0|[-11.957858948040...|[0.58524347464391...|       0.0|\n",
            "|(8,[1,5,6,7],[3.0...|    0.0|[-15.767686404680...|[0.64824948392723...|       0.0|\n",
            "|(8,[1,5,6,7],[4.0...|    1.0|[-21.646189446351...|[0.65925242334085...|       0.0|\n",
            "|(8,[1,5,6,7],[5.2...|    1.0|[-26.590028659131...|[0.58441608992677...|       0.0|\n",
            "|(8,[1,6,7],[2.940...|    0.0|[-11.255421224969...|[0.61439097940903...|       0.0|\n",
            "|[0.0,2.3144804578...|    0.0|[-22.217687115413...|[0.73321016257367...|       0.0|\n",
            "|[0.0,2.6272480873...|    0.0|[-30.180895122098...|[0.73144667999712...|       0.0|\n",
            "|[0.0,2.9712924797...|    0.0|[-35.902388395634...|[0.76149512243939...|       0.0|\n",
            "|[0.0,3.0338460056...|    0.0|[-35.453665987275...|[0.71612846879933...|       0.0|\n",
            "|[0.0,3.0651227685...|    0.0|[-27.935885490308...|[0.74424965163696...|       0.0|\n",
            "|[0.0,3.1276762944...|    0.0|[-47.666341777484...|[0.74602366591533...|       0.0|\n",
            "|[0.0,3.1589530573...|    0.0|[-23.115542891001...|[0.74636192116874...|       0.0|\n",
            "|[0.0,3.1902298203...|    0.0|[-33.763242048305...|[0.75739705979746...|       0.0|\n",
            "|[0.0,3.1902298203...|    0.0|[-34.168578335075...|[0.72409974718531...|       0.0|\n",
            "|[0.0,3.2527833462...|    0.0|[-30.910604180557...|[0.69894136104821...|       0.0|\n",
            "|[0.0,3.2527833462...|    1.0|[-33.110010663870...|[0.72757178404090...|       0.0|\n",
            "|[0.0,3.3466136350...|    0.0|[-24.824231568583...|[0.75470382393746...|       0.0|\n",
            "|[0.0,3.3466136350...|    1.0|[-35.245500478863...|[0.70675673345815...|       0.0|\n",
            "|[0.0,3.3778903979...|    0.0|[-31.541854072070...|[0.72993394378940...|       0.0|\n",
            "|[0.0,3.5342742127...|    1.0|[-24.761994038763...|[0.76693907331220...|       0.0|\n",
            "+--------------------+-------+--------------------+--------------------+----------+\n",
            "only showing top 20 rows\n",
            "\n"
          ]
        }
      ],
      "source": [
        "prediction_test.show()"
      ]
    },
    {
      "cell_type": "code",
      "execution_count": 85,
      "metadata": {
        "colab": {
          "base_uri": "https://localhost:8080/"
        },
        "id": "Lw279542jWXm",
        "outputId": "a8e3d8c0-832a-4116-8dd9-b90e88a3e209"
      },
      "outputs": [
        {
          "output_type": "stream",
          "name": "stdout",
          "text": [
            "+-------+----------+\n",
            "|Outcome|prediction|\n",
            "+-------+----------+\n",
            "|    0.0|       0.0|\n",
            "|    0.0|       0.0|\n",
            "|    1.0|       0.0|\n",
            "|    1.0|       0.0|\n",
            "|    0.0|       0.0|\n",
            "|    0.0|       0.0|\n",
            "|    0.0|       0.0|\n",
            "|    0.0|       0.0|\n",
            "|    0.0|       0.0|\n",
            "|    0.0|       0.0|\n",
            "+-------+----------+\n",
            "only showing top 10 rows\n",
            "\n"
          ]
        }
      ],
      "source": [
        "prediction_test.select(\"Outcome\",\"prediction\").show(10)"
      ]
    },
    {
      "cell_type": "code",
      "execution_count": 86,
      "metadata": {
        "id": "jw-Ge2JUjWXm"
      },
      "outputs": [],
      "source": [
        "prednLabels = prediction_test.select(\"Outcome\",\"prediction\").rdd"
      ]
    },
    {
      "cell_type": "code",
      "execution_count": 87,
      "metadata": {
        "id": "VwKkE8D5jWXm"
      },
      "outputs": [],
      "source": [
        "# computing test error\n",
        "evaluator = MulticlassClassificationEvaluator(labelCol=\"Outcome\", predictionCol=\"prediction\", metricName=\"accuracy\")\n",
        "acc_NB = evaluator.evaluate(prediction_test)"
      ]
    },
    {
      "cell_type": "code",
      "execution_count": 88,
      "metadata": {
        "colab": {
          "base_uri": "https://localhost:8080/"
        },
        "id": "d21cEyWdjWXm",
        "outputId": "e1dbc709-d349-446a-df73-5a3237dcca88"
      },
      "outputs": [
        {
          "output_type": "stream",
          "name": "stdout",
          "text": [
            "Accuracy: 0.6203703703703703\n"
          ]
        }
      ],
      "source": [
        "print (\"Accuracy:\",acc_NB)"
      ]
    },
    {
      "cell_type": "code",
      "execution_count": 89,
      "metadata": {
        "colab": {
          "base_uri": "https://localhost:8080/"
        },
        "id": "F54Fnu1ijWXm",
        "outputId": "8a5f9a1e-9444-4864-ae0c-a62126479a0e"
      },
      "outputs": [
        {
          "output_type": "stream",
          "name": "stdout",
          "text": [
            "Area under ROC = 0.7238095238095239\n"
          ]
        }
      ],
      "source": [
        "metrics = BinaryClassificationMetrics(prednLabels)\n",
        "\n",
        "# AUC\n",
        "print(\"Area under ROC = %s\" % metrics.areaUnderROC)"
      ]
    },
    {
      "cell_type": "markdown",
      "metadata": {
        "id": "TxQ-hDaUjWXz"
      },
      "source": [
        "## Random Forest Classifier"
      ]
    },
    {
      "cell_type": "code",
      "execution_count": 90,
      "metadata": {
        "id": "GXqTfCJSjWXz"
      },
      "outputs": [],
      "source": [
        "random_forest_classifier = RandomForestClassifier(labelCol=\"Outcome\", featuresCol=\"Scaled_features\", numTrees=40)"
      ]
    },
    {
      "cell_type": "code",
      "execution_count": 91,
      "metadata": {
        "id": "QQ2mdCXxjWXz"
      },
      "outputs": [],
      "source": [
        "model = random_forest_classifier.fit(train)"
      ]
    },
    {
      "cell_type": "code",
      "execution_count": 92,
      "metadata": {
        "id": "xFHvDTidjWXz"
      },
      "outputs": [],
      "source": [
        "prediction_test = model.transform(test)"
      ]
    },
    {
      "cell_type": "code",
      "execution_count": 93,
      "metadata": {
        "colab": {
          "base_uri": "https://localhost:8080/"
        },
        "id": "SF2L5rSXjWXz",
        "outputId": "5286d13d-2cd3-46c9-eee6-6e6e14bdf552"
      },
      "outputs": [
        {
          "output_type": "stream",
          "name": "stdout",
          "text": [
            "+--------------------+-------+--------------------+--------------------+----------+\n",
            "|     Scaled_features|Outcome|       rawPrediction|         probability|prediction|\n",
            "+--------------------+-------+--------------------+--------------------+----------+\n",
            "|(8,[0,1,6,7],[0.8...|    0.0|[38.5180006019978...|[0.96295001504994...|       0.0|\n",
            "|(8,[1,5,6,7],[3.0...|    0.0|[38.5688287802784...|[0.96422071950696...|       0.0|\n",
            "|(8,[1,5,6,7],[4.0...|    1.0|[17.2453017387244...|[0.43113254346811...|       1.0|\n",
            "|(8,[1,5,6,7],[5.2...|    1.0|[7.57086684038422...|[0.18927167100960...|       1.0|\n",
            "|(8,[1,6,7],[2.940...|    0.0|[38.6303850206482...|[0.96575962551620...|       0.0|\n",
            "|[0.0,2.3144804578...|    0.0|[38.3098106053958...|[0.95774526513489...|       0.0|\n",
            "|[0.0,2.6272480873...|    0.0|[37.1046860363802...|[0.92761715090950...|       0.0|\n",
            "|[0.0,2.9712924797...|    0.0|[35.9613671862257...|[0.89903417965564...|       0.0|\n",
            "|[0.0,3.0338460056...|    0.0|[36.8295729335206...|[0.92073932333801...|       0.0|\n",
            "|[0.0,3.0651227685...|    0.0|[38.3710053164952...|[0.95927513291238...|       0.0|\n",
            "|[0.0,3.1276762944...|    0.0|[21.9778120802661...|[0.54944530200665...|       0.0|\n",
            "|[0.0,3.1589530573...|    0.0|[38.4967557365677...|[0.96241889341419...|       0.0|\n",
            "|[0.0,3.1902298203...|    0.0|[36.0895464865677...|[0.90223866216419...|       0.0|\n",
            "|[0.0,3.1902298203...|    0.0|[31.9846866017706...|[0.79961716504426...|       0.0|\n",
            "|[0.0,3.2527833462...|    0.0|[37.6181426308736...|[0.94045356577184...|       0.0|\n",
            "|[0.0,3.2527833462...|    1.0|[36.3998333797897...|[0.90999583449474...|       0.0|\n",
            "|[0.0,3.3466136350...|    0.0|[38.2347172388612...|[0.95586793097153...|       0.0|\n",
            "|[0.0,3.3466136350...|    1.0|[33.3168391447464...|[0.83292097861866...|       0.0|\n",
            "|[0.0,3.3778903979...|    0.0|[26.9730643239414...|[0.67432660809853...|       0.0|\n",
            "|[0.0,3.5342742127...|    1.0|[35.4542366052274...|[0.88635591513068...|       0.0|\n",
            "+--------------------+-------+--------------------+--------------------+----------+\n",
            "only showing top 20 rows\n",
            "\n"
          ]
        }
      ],
      "source": [
        "prediction_test.show()"
      ]
    },
    {
      "cell_type": "code",
      "execution_count": 94,
      "metadata": {
        "colab": {
          "base_uri": "https://localhost:8080/"
        },
        "id": "zbhxVaQcjWXz",
        "outputId": "2f99a73d-e56e-4d82-8d78-7c481d7b0d81"
      },
      "outputs": [
        {
          "output_type": "stream",
          "name": "stdout",
          "text": [
            "+----------+-------+\n",
            "|prediction|Outcome|\n",
            "+----------+-------+\n",
            "|       0.0|    0.0|\n",
            "|       0.0|    0.0|\n",
            "|       1.0|    1.0|\n",
            "|       1.0|    1.0|\n",
            "|       0.0|    0.0|\n",
            "|       0.0|    0.0|\n",
            "|       0.0|    0.0|\n",
            "|       0.0|    0.0|\n",
            "|       0.0|    0.0|\n",
            "|       0.0|    0.0|\n",
            "+----------+-------+\n",
            "only showing top 10 rows\n",
            "\n"
          ]
        }
      ],
      "source": [
        "prediction_test.select(\"prediction\",\"Outcome\").show(10)"
      ]
    },
    {
      "cell_type": "code",
      "execution_count": 95,
      "metadata": {
        "id": "tdO8MHU0jWXz"
      },
      "outputs": [],
      "source": [
        "prednLabels = prediction_test.select(\"Outcome\",\"prediction\").rdd"
      ]
    },
    {
      "cell_type": "code",
      "execution_count": 96,
      "metadata": {
        "colab": {
          "base_uri": "https://localhost:8080/"
        },
        "id": "XuP1wojcjWXz",
        "outputId": "e294366a-192d-4123-9a12-8b3aca891b31"
      },
      "outputs": [
        {
          "output_type": "stream",
          "name": "stdout",
          "text": [
            "Area under ROC = 0.793707033315706\n"
          ]
        }
      ],
      "source": [
        "mtrcs = BinaryClassificationMetrics(prednLabels)\n",
        "# AUC\n",
        "print(\"Area under ROC = %s\" % mtrcs.areaUnderROC)"
      ]
    },
    {
      "cell_type": "code",
      "execution_count": 97,
      "metadata": {
        "id": "1V6ixs78jWXz"
      },
      "outputs": [],
      "source": [
        "# Select (prediction, true label) and compute test error\n",
        "evaluator = MulticlassClassificationEvaluator( labelCol=\"Outcome\", predictionCol=\"prediction\", metricName=\"accuracy\")\n",
        "acc_RF= evaluator.evaluate(prediction_test)"
      ]
    },
    {
      "cell_type": "code",
      "execution_count": 98,
      "metadata": {
        "colab": {
          "base_uri": "https://localhost:8080/"
        },
        "id": "H806oxT8jWX0",
        "outputId": "bc6154c6-e29f-4b35-c20b-0eaaf1b76c1f"
      },
      "outputs": [
        {
          "output_type": "stream",
          "name": "stdout",
          "text": [
            "Accuracy 0.7782805429864253\n"
          ]
        }
      ],
      "source": [
        "print (\"Accuracy\",accuracy_RF)"
      ]
    },
    {
      "cell_type": "markdown",
      "source": [
        "#Gradient Boosting Classifier"
      ],
      "metadata": {
        "id": "9NmNvvTgkBWM"
      }
    },
    {
      "cell_type": "code",
      "source": [
        "gradient_boost_class = GBTClassifier(labelCol=\"Outcome\", featuresCol=\"Scaled_features\")"
      ],
      "metadata": {
        "id": "EIxRD5pLja4R"
      },
      "execution_count": 99,
      "outputs": []
    },
    {
      "cell_type": "code",
      "source": [
        "model = gradient_boost_class.fit(train)"
      ],
      "metadata": {
        "id": "jZfVxpyIjcbG"
      },
      "execution_count": 100,
      "outputs": []
    },
    {
      "cell_type": "code",
      "source": [
        "prediction_test = model.transform(test)"
      ],
      "metadata": {
        "id": "vl0FPznvjcdt"
      },
      "execution_count": 101,
      "outputs": []
    },
    {
      "cell_type": "code",
      "source": [
        "prediction_test.show()"
      ],
      "metadata": {
        "colab": {
          "base_uri": "https://localhost:8080/"
        },
        "id": "i1GySopPjcgG",
        "outputId": "31caeae0-4950-4efa-ca3c-45ae1977ff33"
      },
      "execution_count": 102,
      "outputs": [
        {
          "output_type": "stream",
          "name": "stdout",
          "text": [
            "+--------------------+-------+--------------------+--------------------+----------+\n",
            "|     Scaled_features|Outcome|       rawPrediction|         probability|prediction|\n",
            "+--------------------+-------+--------------------+--------------------+----------+\n",
            "|(8,[0,1,6,7],[0.8...|    0.0|[1.47093762589766...|[0.94987808236303...|       0.0|\n",
            "|(8,[1,5,6,7],[3.0...|    0.0|[1.47093762589766...|[0.94987808236303...|       0.0|\n",
            "|(8,[1,5,6,7],[4.0...|    1.0|[-0.3740370057387...|[0.32124110882603...|       1.0|\n",
            "|(8,[1,5,6,7],[5.2...|    1.0|[-1.6332364020929...|[0.03673945078387...|       1.0|\n",
            "|(8,[1,6,7],[2.940...|    0.0|[1.47093762589766...|[0.94987808236303...|       0.0|\n",
            "|[0.0,2.3144804578...|    0.0|[1.28453187287597...|[0.92884384094078...|       0.0|\n",
            "|[0.0,2.6272480873...|    0.0|[1.48854807207414...|[0.95152861537456...|       0.0|\n",
            "|[0.0,2.9712924797...|    0.0|[1.38821115740729...|[0.94138835239435...|       0.0|\n",
            "|[0.0,3.0338460056...|    0.0|[1.40843782490981...|[0.94358096908830...|       0.0|\n",
            "|[0.0,3.0651227685...|    0.0|[1.34821017012865...|[0.93681508567285...|       0.0|\n",
            "|[0.0,3.1276762944...|    0.0|[-1.9491247305506...|[0.01987437651195...|       1.0|\n",
            "|[0.0,3.1589530573...|    0.0|[1.47141491916562...|[0.94992351043971...|       0.0|\n",
            "|[0.0,3.1902298203...|    0.0|[1.46749065258739...|[0.94954884374835...|       0.0|\n",
            "|[0.0,3.1902298203...|    0.0|[0.30733489229475...|[0.64900530572811...|       0.0|\n",
            "|[0.0,3.2527833462...|    0.0|[1.51388583179932...|[0.95381310578819...|       0.0|\n",
            "|[0.0,3.2527833462...|    1.0|[1.51091479134365...|[0.95355062832332...|       0.0|\n",
            "|[0.0,3.3466136350...|    0.0|[1.48163677016280...|[0.95088709679562...|       0.0|\n",
            "|[0.0,3.3466136350...|    1.0|[0.45675501815928...|[0.71371788741549...|       0.0|\n",
            "|[0.0,3.3778903979...|    0.0|[-0.0897941842762...|[0.45522318829959...|       1.0|\n",
            "|[0.0,3.5342742127...|    1.0|[1.34592576371489...|[0.93654410551894...|       0.0|\n",
            "+--------------------+-------+--------------------+--------------------+----------+\n",
            "only showing top 20 rows\n",
            "\n"
          ]
        }
      ]
    },
    {
      "cell_type": "code",
      "source": [
        "prediction_test.select(\"Outcome\",\"prediction\").show(10)"
      ],
      "metadata": {
        "colab": {
          "base_uri": "https://localhost:8080/"
        },
        "id": "-iEQKQqIjciU",
        "outputId": "bfea00b0-909e-4123-aaee-6addd9da267f"
      },
      "execution_count": 103,
      "outputs": [
        {
          "output_type": "stream",
          "name": "stdout",
          "text": [
            "+-------+----------+\n",
            "|Outcome|prediction|\n",
            "+-------+----------+\n",
            "|    0.0|       0.0|\n",
            "|    0.0|       0.0|\n",
            "|    1.0|       1.0|\n",
            "|    1.0|       1.0|\n",
            "|    0.0|       0.0|\n",
            "|    0.0|       0.0|\n",
            "|    0.0|       0.0|\n",
            "|    0.0|       0.0|\n",
            "|    0.0|       0.0|\n",
            "|    0.0|       0.0|\n",
            "+-------+----------+\n",
            "only showing top 10 rows\n",
            "\n"
          ]
        }
      ]
    },
    {
      "cell_type": "code",
      "source": [
        "prednLabels = prediction_test.select(\"Outcome\",\"prediction\").rdd"
      ],
      "metadata": {
        "id": "5jCNWXfDjcka"
      },
      "execution_count": 104,
      "outputs": []
    },
    {
      "cell_type": "code",
      "source": [
        "mtrcs = BinaryClassificationMetrics(prednLabels)\n",
        "\n",
        "# AUC\n",
        "print(\"Area under ROC = %s\" % mtrcs.areaUnderROC)"
      ],
      "metadata": {
        "colab": {
          "base_uri": "https://localhost:8080/"
        },
        "id": "Si3DTUs2jcos",
        "outputId": "1ded5f60-1fbf-4dd2-c360-c9782bb46a3f"
      },
      "execution_count": 105,
      "outputs": [
        {
          "output_type": "stream",
          "name": "stdout",
          "text": [
            "Area under ROC = 0.709055394170089\n"
          ]
        }
      ]
    },
    {
      "cell_type": "code",
      "source": [
        "# Select (prediction, true label) and compute test error\n",
        "evaluator = MulticlassClassificationEvaluator( labelCol=\"Outcome\", predictionCol=\"prediction\", metricName=\"accuracy\")\n",
        "acc_GBT = evaluator.evaluate(prediction_test)"
      ],
      "metadata": {
        "id": "8zLu7iLYjcq9"
      },
      "execution_count": 106,
      "outputs": []
    },
    {
      "cell_type": "code",
      "source": [
        "print (\"Accuracy\",acc_GBT)"
      ],
      "metadata": {
        "colab": {
          "base_uri": "https://localhost:8080/"
        },
        "id": "swWSfC5wjcs_",
        "outputId": "4e5065fd-e943-47db-91f0-b65e0df23102"
      },
      "execution_count": 107,
      "outputs": [
        {
          "output_type": "stream",
          "name": "stdout",
          "text": [
            "Accuracy 0.7175925925925926\n"
          ]
        }
      ]
    },
    {
      "cell_type": "code",
      "execution_count": 109,
      "metadata": {
        "colab": {
          "base_uri": "https://localhost:8080/"
        },
        "id": "JH668ro1jWX0",
        "outputId": "a3f84407-e330-4619-9005-8ddeff868c6b"
      },
      "outputs": [
        {
          "output_type": "stream",
          "name": "stdout",
          "text": [
            "Accuracy of Naive Bayes classifier:  0.6203703703703703\n",
            "Accuracy of Random Forest classifier:  0.7824074074074074\n",
            "Accuracy of Gradient Boosting classifier:  0.7175925925925926\n",
            "Accuracy of Logistic Regression :  0.7777777777777778\n"
          ]
        }
      ],
      "source": [
        "print(\"Accuracy of Naive Bayes classifier: \",acc_NB)\n",
        "print(\"Accuracy of Random Forest classifier: \",acc_RF)\n",
        "print(\"Accuracy of Gradient Boosting classifier: \",acc_GBT)\n",
        "print(\"Accuracy of Logistic Regression : \",acc_LR)"
      ]
    }
  ],
  "metadata": {
    "kernelspec": {
      "display_name": "Python 3",
      "language": "python",
      "name": "python3"
    },
    "language_info": {
      "codemirror_mode": {
        "name": "ipython",
        "version": 3
      },
      "file_extension": ".py",
      "mimetype": "text/x-python",
      "name": "python",
      "nbconvert_exporter": "python",
      "pygments_lexer": "ipython3",
      "version": "3.7.6"
    },
    "colab": {
      "provenance": []
    }
  },
  "nbformat": 4,
  "nbformat_minor": 0
}